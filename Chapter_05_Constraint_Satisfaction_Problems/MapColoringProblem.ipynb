{
 "cells": [
  {
   "cell_type": "code",
   "execution_count": 1,
   "id": "130d9f2a",
   "metadata": {},
   "outputs": [],
   "source": [
    "from kamgon import *"
   ]
  },
  {
   "cell_type": "code",
   "execution_count": 2,
   "id": "2fc279b4",
   "metadata": {},
   "outputs": [],
   "source": [
    "class MapColoringProblem(CSPProblem):\n",
    "    \"\"\"\n",
    "    ปัญหาการระบายสีแผนที่ โดยจังหวัดที่ติดกันต้องไม่มีสีเดียวกัน\n",
    "    \"\"\"\n",
    "    \n",
    "    def __init__(self, regions: List[str], neighbors: Dict[str, List[str]], colors: List[str]):\n",
    "        \"\"\"\n",
    "        เริ่มต้นปัญหาการระบายสีแผนที่\n",
    "        \n",
    "        Args:\n",
    "            regions: รายการชื่อจังหวัดหรือพื้นที่\n",
    "            neighbors: Dictionary ที่แสดงพื้นที่ที่ติดกัน\n",
    "            colors: รายการสีที่ใช้ได้\n",
    "        \"\"\"\n",
    "        self.neighbors = neighbors\n",
    "        domains = {region: colors.copy() for region in regions}\n",
    "        super().__init__(regions, domains)\n",
    "    \n",
    "    def is_consistent(self, variable: str, value: Any, assignment: Dict[str, Any]) -> bool:\n",
    "        \"\"\"\n",
    "        ตรวจสอบว่าการระบายสีพื้นที่นี้ขัดแย้งกับพื้นที่ที่ติดกันหรือไม่\n",
    "        \n",
    "        Args:\n",
    "            variable: ชื่อพื้นที่ที่จะระบายสี\n",
    "            value: สีที่จะใช้\n",
    "            assignment: การระบายสีที่มีอยู่แล้ว\n",
    "            \n",
    "        Returns:\n",
    "            True ถ้าสามารถระบายสีนี้ได้โดยไม่ขัดแย้ง\n",
    "        \"\"\"\n",
    "        for neighbor in self.neighbors.get(variable, []):\n",
    "            if neighbor in assignment and assignment[neighbor] == value:\n",
    "                return False\n",
    "        return True"
   ]
  },
  {
   "cell_type": "code",
   "execution_count": 3,
   "id": "7cd83773",
   "metadata": {},
   "outputs": [
    {
     "name": "stdout",
     "output_type": "stream",
     "text": [
      "\n",
      "=== Map Coloring Problem ===\n",
      "คำตอบการระบายสีแผนที่:\n",
      "  กรุงเทพมหานคร: แดง\n",
      "  นนทบุรี: เขียว\n",
      "  ปทุมธานี: น้ำเงิน\n",
      "  สมุทรปราการ: เขียว\n",
      "  นครปฐม: แดง\n"
     ]
    }
   ],
   "source": [
    "# การใช้งาน Map Coloring Problem\n",
    "if __name__ == \"__main__\":\n",
    "    print(\"\\n=== Map Coloring Problem ===\")\n",
    "    \n",
    "    # กำหนดข้อมูลแผนที่ (ตัวอย่างจังหวัดในภาคกลาง)\n",
    "    provinces = ['กรุงเทพมหานคร', 'นนทบุรี', 'ปทุมธานี', 'สมุทรปราการ', 'นครปฐม']\n",
    "    \n",
    "    # กำหนดจังหวัดที่ติดกัน\n",
    "    province_neighbors = {\n",
    "        'กรุงเทพมหานคร': ['นนทบุรี', 'ปทุมธานี', 'สมุทรปราการ'],\n",
    "        'นนทบุรี': ['กรุงเทพมหานคร', 'ปทุมธานี', 'นครปฐม'],\n",
    "        'ปทุมธานี': ['กรุงเทพมหานคร', 'นนทบุรี'],\n",
    "        'สมุทรปราการ': ['กรุงเทพมหานคร', 'นครปฐม'],\n",
    "        'นครปฐม': ['นนทบุรี', 'สมุทรปราการ']\n",
    "    }\n",
    "    \n",
    "    colors = ['แดง', 'เขียว', 'น้ำเงิน']\n",
    "    \n",
    "    map_coloring = MapColoringProblem(provinces, province_neighbors, colors)\n",
    "    \n",
    "    # แก้ปัญหาด้วย backtracking\n",
    "    solution = backtracking_search(map_coloring, verbose=False)\n",
    "    \n",
    "    if solution:\n",
    "        print(\"คำตอบการระบายสีแผนที่:\")\n",
    "        for province, color in solution.items():\n",
    "            print(f\"  {province}: {color}\")\n",
    "    else:\n",
    "        print(\"ไม่พบคำตอบ\")"
   ]
  }
 ],
 "metadata": {
  "kernelspec": {
   "display_name": "base",
   "language": "python",
   "name": "python3"
  },
  "language_info": {
   "codemirror_mode": {
    "name": "ipython",
    "version": 3
   },
   "file_extension": ".py",
   "mimetype": "text/x-python",
   "name": "python",
   "nbconvert_exporter": "python",
   "pygments_lexer": "ipython3",
   "version": "3.9.13"
  }
 },
 "nbformat": 4,
 "nbformat_minor": 5
}
