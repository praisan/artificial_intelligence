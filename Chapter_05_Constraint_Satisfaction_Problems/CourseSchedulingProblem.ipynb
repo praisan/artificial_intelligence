{
 "cells": [
  {
   "cell_type": "code",
   "execution_count": 1,
   "id": "b32011af",
   "metadata": {},
   "outputs": [],
   "source": [
    "from kamgon import *"
   ]
  },
  {
   "cell_type": "code",
   "execution_count": 2,
   "id": "67b3a45d",
   "metadata": {},
   "outputs": [],
   "source": [
    "class CourseSchedulingProblem(CSPProblem):\n",
    "    \"\"\"\n",
    "    ปัญหาการจัดตารางเรียนโดยไม่ให้เกิดการขัดแย้งด้านเวลาและทรัพยากร\n",
    "    \"\"\"\n",
    "    \n",
    "    def __init__(self, courses: List[str], time_slots: List[str], \n",
    "                 rooms: List[str], conflicts: List[tuple]):\n",
    "        \"\"\"\n",
    "        เริ่มต้นปัญหาการจัดตารางเรียน\n",
    "        \n",
    "        Args:\n",
    "            courses: รายการรายวิชา\n",
    "            time_slots: รายการช่วงเวลา\n",
    "            rooms: รายการห้องเรียน\n",
    "            conflicts: รายการคู่รายวิชาที่ไม่สามารถเรียนพร้อมกันได้\n",
    "        \"\"\"\n",
    "        self.time_slots = time_slots\n",
    "        self.rooms = rooms\n",
    "        self.conflicts = conflicts\n",
    "        \n",
    "        # สร้าง domain ที่เป็น combination ของเวลาและห้อง\n",
    "        possible_slots = [(time, room) for time in time_slots for room in rooms]\n",
    "        domains = {course: possible_slots.copy() for course in courses}\n",
    "        \n",
    "        super().__init__(courses, domains)\n",
    "    \n",
    "    def is_consistent(self, variable: str, value: Any, assignment: Dict[str, Any]) -> bool:\n",
    "        \"\"\"\n",
    "        ตรวจสอบว่าการจัดรายวิชาในช่วงเวลาและห้องนี้ขัดแย้งหรือไม่\n",
    "        \n",
    "        Args:\n",
    "            variable: ชื่อรายวิชา\n",
    "            value: tuple ของ (เวลา, ห้อง)\n",
    "            assignment: การจัดตารางที่มีอยู่แล้ว\n",
    "            \n",
    "        Returns:\n",
    "            True ถ้าสามารถจัดรายวิชานี้ได้โดยไม่ขัดแย้ง\n",
    "        \"\"\"\n",
    "        time, room = value\n",
    "        \n",
    "        for assigned_course, assigned_slot in assignment.items():\n",
    "            if assigned_course == variable:\n",
    "                continue\n",
    "                \n",
    "            assigned_time, assigned_room = assigned_slot\n",
    "            \n",
    "            # ตรวจสอบการขัดแย้งห้อง (ห้องเดียวกันในเวลาเดียวกัน)\n",
    "            if time == assigned_time and room == assigned_room:\n",
    "                return False\n",
    "            \n",
    "            # ตรวจสอบการขัดแย้งรายวิชา (รายวิชาที่ไม่ควรเรียนพร้อมกัน)\n",
    "            if time == assigned_time:\n",
    "                for course1, course2 in self.conflicts:\n",
    "                    if ((variable == course1 and assigned_course == course2) or \n",
    "                        (variable == course2 and assigned_course == course1)):\n",
    "                        return False\n",
    "        \n",
    "        return True"
   ]
  },
  {
   "cell_type": "code",
   "execution_count": 3,
   "id": "d572dba8",
   "metadata": {},
   "outputs": [
    {
     "name": "stdout",
     "output_type": "stream",
     "text": [
      "\n",
      "=== Course Scheduling Problem ===\n",
      "ตารางเรียนที่จัดได้:\n",
      "  คณิตศาสตร์: 08:00-10:00 ที่ ห้อง101\n",
      "  ฟิสิกส์: 10:00-12:00 ที่ ห้อง101\n",
      "  เคมี: 08:00-10:00 ที่ ห้อง102\n",
      "  ชีววิทยา: 10:00-12:00 ที่ ห้อง102\n",
      "  ประวัติศาสตร์: 08:00-10:00 ที่ ห้อง201\n"
     ]
    }
   ],
   "source": [
    "# การใช้งาน Course Scheduling Problem\n",
    "if __name__ == \"__main__\":\n",
    "    print(\"\\n=== Course Scheduling Problem ===\")\n",
    "    \n",
    "    courses = ['คณิตศาสตร์', 'ฟิสิกส์', 'เคมี', 'ชีววิทยา', 'ประวัติศาสตร์']\n",
    "    time_slots = ['08:00-10:00', '10:00-12:00', '13:00-15:00', '15:00-17:00']\n",
    "    rooms = ['ห้อง101', 'ห้อง102', 'ห้อง201']\n",
    "    \n",
    "    # รายวิชาที่ไม่ควรเรียนพร้อมกัน (นักเรียนคนเดียวกันต้องเรียน)\n",
    "    conflicts = [('คณิตศาสตร์', 'ฟิสิกส์'), ('เคมี', 'ชีววิทยา')]\n",
    "    \n",
    "    scheduling = CourseSchedulingProblem(courses, time_slots, rooms, conflicts)\n",
    "    \n",
    "    # แก้ปัญหาด้วย backtracking\n",
    "    solution = backtracking_search(scheduling, verbose=False)\n",
    "    \n",
    "    if solution:\n",
    "        print(\"ตารางเรียนที่จัดได้:\")\n",
    "        for course, slot in solution.items():\n",
    "            time, room = slot\n",
    "            print(f\"  {course}: {time} ที่ {room}\")\n",
    "    else:\n",
    "        print(\"ไม่สามารถจัดตารางเรียนได้\")"
   ]
  },
  {
   "cell_type": "code",
   "execution_count": null,
   "id": "531f82c8",
   "metadata": {},
   "outputs": [],
   "source": []
  }
 ],
 "metadata": {
  "kernelspec": {
   "display_name": "base",
   "language": "python",
   "name": "python3"
  },
  "language_info": {
   "codemirror_mode": {
    "name": "ipython",
    "version": 3
   },
   "file_extension": ".py",
   "mimetype": "text/x-python",
   "name": "python",
   "nbconvert_exporter": "python",
   "pygments_lexer": "ipython3",
   "version": "3.9.13"
  }
 },
 "nbformat": 4,
 "nbformat_minor": 5
}
